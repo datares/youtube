{
 "cells": [
  {
   "cell_type": "code",
   "execution_count": 77,
   "metadata": {
    "scrolled": false
   },
   "outputs": [
    {
     "name": "stderr",
     "output_type": "stream",
     "text": [
      "\n",
      "Attaching package: 'dplyr'\n",
      "\n",
      "The following objects are masked from 'package:stats':\n",
      "\n",
      "    filter, lag\n",
      "\n",
      "The following objects are masked from 'package:base':\n",
      "\n",
      "    intersect, setdiff, setequal, union\n",
      "\n"
     ]
    }
   ],
   "source": [
    "library(ggplot2)\n",
    "library(jsonlite)\n",
    "library(dplyr)\n",
    "#Read in the data file\n",
    "ytdata <- read.csv(file=\"USvideos.csv\", header=TRUE, sep=\",\")\n",
    "ytdata <- ytdata[!duplicated(ytdata$video_id), ]\n",
    "jsonData <- fromJSON(\"US_category_id.json\")"
   ]
  },
  {
   "cell_type": "code",
   "execution_count": 148,
   "metadata": {},
   "outputs": [
    {
     "data": {
      "text/html": [
       "<table>\n",
       "<thead><tr><th scope=col>category_id</th><th scope=col>category_name</th><th scope=col>Freq</th><th scope=col>num</th></tr></thead>\n",
       "<tbody>\n",
       "\t<tr><td>43                   </td><td>Shows                </td><td>   4                 </td><td> 1                   </td></tr>\n",
       "\t<tr><td>29                                          </td><td>Nonprofits &amp; Activism                   </td><td><span style=white-space:pre-wrap>  14</span></td><td> 2                                          </td></tr>\n",
       "\t<tr><td>19                                                               </td><td><span style=white-space:pre-wrap>Travel &amp; Events      </span></td><td><span style=white-space:pre-wrap>  60</span>                     </td><td> 3                                                               </td></tr>\n",
       "\t<tr><td>2                                                                </td><td><span style=white-space:pre-wrap>Autos &amp; Vehicles     </span></td><td><span style=white-space:pre-wrap>  70</span>                     </td><td> 4                                                               </td></tr>\n",
       "\t<tr><td>20                   </td><td>Gaming               </td><td> 103                 </td><td> 5                   </td></tr>\n",
       "\t<tr><td>15                                                               </td><td><span style=white-space:pre-wrap>Pets &amp; Animals       </span></td><td> 138                                                             </td><td> 6                                                               </td></tr>\n",
       "\t<tr><td>27                   </td><td>Education            </td><td> 250                 </td><td> 7                   </td></tr>\n",
       "\t<tr><td>1                                                                </td><td><span style=white-space:pre-wrap>Film &amp; Animation     </span></td><td> 318                                                             </td><td> 8                                                               </td></tr>\n",
       "\t<tr><td>28                       </td><td>Science &amp; Technology </td><td> 380                     </td><td> 9                       </td></tr>\n",
       "\t<tr><td>17                   </td><td>Sports               </td><td> 451                 </td><td>10                   </td></tr>\n",
       "\t<tr><td>22                                                               </td><td><span style=white-space:pre-wrap>People &amp; Blogs       </span></td><td> 498                                                             </td><td>11                                                               </td></tr>\n",
       "\t<tr><td>25                                                               </td><td><span style=white-space:pre-wrap>News &amp; Politics      </span></td><td> 505                                                             </td><td>12                                                               </td></tr>\n",
       "\t<tr><td>23                   </td><td>Comedy               </td><td> 547                 </td><td>13                   </td></tr>\n",
       "\t<tr><td>26                                                               </td><td><span style=white-space:pre-wrap>Howto &amp; Style        </span></td><td> 595                                                             </td><td>14                                                               </td></tr>\n",
       "\t<tr><td>10                   </td><td>Music                </td><td> 799                 </td><td>15                   </td></tr>\n",
       "\t<tr><td>24                   </td><td>Entertainment        </td><td>1619                 </td><td>16                   </td></tr>\n",
       "</tbody>\n",
       "</table>\n"
      ],
      "text/latex": [
       "\\begin{tabular}{r|llll}\n",
       " category\\_id & category\\_name & Freq & num\\\\\n",
       "\\hline\n",
       "\t 43                    & Shows                 &    4                  &  1                   \\\\\n",
       "\t 29                      & Nonprofits \\& Activism &   14                    &  2                     \\\\\n",
       "\t 19                      & Travel \\& Events       &   60                    &  3                     \\\\\n",
       "\t 2                       & Autos \\& Vehicles      &   70                    &  4                     \\\\\n",
       "\t 20                    & Gaming                &  103                  &  5                   \\\\\n",
       "\t 15                      & Pets \\& Animals        &  138                    &  6                     \\\\\n",
       "\t 27                    & Education             &  250                  &  7                   \\\\\n",
       "\t 1                       & Film \\& Animation      &  318                    &  8                     \\\\\n",
       "\t 28                      & Science \\& Technology  &  380                    &  9                     \\\\\n",
       "\t 17                    & Sports                &  451                  & 10                   \\\\\n",
       "\t 22                      & People \\& Blogs        &  498                    & 11                     \\\\\n",
       "\t 25                      & News \\& Politics       &  505                    & 12                     \\\\\n",
       "\t 23                    & Comedy                &  547                  & 13                   \\\\\n",
       "\t 26                      & Howto \\& Style         &  595                    & 14                     \\\\\n",
       "\t 10                    & Music                 &  799                  & 15                   \\\\\n",
       "\t 24                    & Entertainment         & 1619                  & 16                   \\\\\n",
       "\\end{tabular}\n"
      ],
      "text/markdown": [
       "\n",
       "| category_id | category_name | Freq | num |\n",
       "|---|---|---|---|\n",
       "| 43                    | Shows                 |    4                  |  1                    |\n",
       "| 29                    | Nonprofits & Activism |   14                  |  2                    |\n",
       "| 19                    | Travel & Events       |   60                  |  3                    |\n",
       "| 2                     | Autos & Vehicles      |   70                  |  4                    |\n",
       "| 20                    | Gaming                |  103                  |  5                    |\n",
       "| 15                    | Pets & Animals        |  138                  |  6                    |\n",
       "| 27                    | Education             |  250                  |  7                    |\n",
       "| 1                     | Film & Animation      |  318                  |  8                    |\n",
       "| 28                    | Science & Technology  |  380                  |  9                    |\n",
       "| 17                    | Sports                |  451                  | 10                    |\n",
       "| 22                    | People & Blogs        |  498                  | 11                    |\n",
       "| 25                    | News & Politics       |  505                  | 12                    |\n",
       "| 23                    | Comedy                |  547                  | 13                    |\n",
       "| 26                    | Howto & Style         |  595                  | 14                    |\n",
       "| 10                    | Music                 |  799                  | 15                    |\n",
       "| 24                    | Entertainment         | 1619                  | 16                    |\n",
       "\n"
      ],
      "text/plain": [
       "   category_id category_name         Freq num\n",
       "1  43          Shows                    4  1 \n",
       "2  29          Nonprofits & Activism   14  2 \n",
       "3  19          Travel & Events         60  3 \n",
       "4  2           Autos & Vehicles        70  4 \n",
       "5  20          Gaming                 103  5 \n",
       "6  15          Pets & Animals         138  6 \n",
       "7  27          Education              250  7 \n",
       "8  1           Film & Animation       318  8 \n",
       "9  28          Science & Technology   380  9 \n",
       "10 17          Sports                 451 10 \n",
       "11 22          People & Blogs         498 11 \n",
       "12 25          News & Politics        505 12 \n",
       "13 23          Comedy                 547 13 \n",
       "14 26          Howto & Style          595 14 \n",
       "15 10          Music                  799 15 \n",
       "16 24          Entertainment         1619 16 "
      ]
     },
     "metadata": {},
     "output_type": "display_data"
    }
   ],
   "source": [
    "# Create dataframe\n",
    "categorydata <- as.data.frame(as.matrix(jsonData$items))\n",
    "categorydata <- data.frame(category_id=categorydata$id, category_name=categorydata$snippet.title)\n",
    "\n",
    "vids <- data.frame(table(category_id=ytdata$category_id))\n",
    "#vids$Freq <- vids$Freq * 2\n",
    "#-----------------#\n",
    "numvids <- merge(categorydata,vids,by=\"category_id\")\n",
    "numvids <- numvids %>% arrange(Freq)\n",
    "numvids$num <- seq(1:16)\n",
    "\n",
    "numvids\n",
    "#mpg$class = with(mpg, reorder(class, hwy, median))"
   ]
  },
  {
   "cell_type": "code",
   "execution_count": 151,
   "metadata": {},
   "outputs": [
    {
     "data": {
      "image/png": "[encoded data removed]",
      "text/plain": [
       "plot without title"
      ]
     },
     "metadata": {},
     "output_type": "display_data"
    }
   ],
   "source": [
    "# ----- This section prepare a dataframe for labels ---- #\n",
    "# Get the name and the y position of each label\n",
    "label_data <- numvids\n",
    "\n",
    "# calculate the ANGLE of the labels\n",
    "number_of_bar <- nrow(label_data)\n",
    "angle <-  90 - 360 * (as.numeric(label_data$num)-0.5) /number_of_bar\n",
    "\n",
    "# calculate the alignment of labels: right or left\n",
    "# If I am on the left part of the plot, my labels have currently an angle < -90\n",
    "label_data$hjust<-ifelse( angle < -90, 1, 0)\n",
    " \n",
    "# flip angle BY to make them readable\n",
    "label_data$angle<-ifelse(angle < -90, angle+180, angle)\n",
    "# ----- ------------------------------------------- ---- #\n",
    "\n",
    "## Graph based on number of trending videos\n",
    "bar_graph <- ggplot(numvids, aes(x=num, y=Freq)) +\n",
    "   geom_bar(stat=\"identity\", fill=alpha(\"orange\"))  +\n",
    "   ggtitle('Top Categories for Trending Videos') +\n",
    "   ylim(-400,1650) +\n",
    "   theme_minimal() +\n",
    "  theme(\n",
    "    axis.text = element_blank(),\n",
    "    axis.title = element_blank(),\n",
    "    panel.grid = element_blank(),\n",
    "    plot.margin = unit(rep(-.02,4), \"cm\"),     # This remove unnecessary margin around plot\n",
    "    plot.title = element_text(hjust=0.5)\n",
    "  ) +\n",
    "    coord_polar(start = 0) +\n",
    "  geom_text(data=label_data, aes(x=num, y=Freq+10, label=category_name, hjust=hjust), color=\"black\", fontface=\"bold\",alpha=0.6, size=2.5, angle= label_data$angle, inherit.aes = FALSE ) \n",
    "bar_graph"
   ]
  }
 ],
 "metadata": {
  "hide_input": false,
  "kernelspec": {
   "display_name": "R",
   "language": "R",
   "name": "ir"
  },
  "language_info": {
   "codemirror_mode": "r",
   "file_extension": ".r",
   "mimetype": "text/x-r-source",
   "name": "R",
   "pygments_lexer": "r",
   "version": "3.6.1"
  },
  "nbTranslate": {
   "displayLangs": [
    "*"
   ],
   "hotkey": "alt-t",
   "langInMainMenu": true,
   "sourceLang": "en",
   "targetLang": "fr",
   "useGoogleTranslate": true
  },
  "toc": {
   "base_numbering": 1,
   "nav_menu": {},
   "number_sections": true,
   "sideBar": true,
   "skip_h1_title": false,
   "title_cell": "Table of Contents",
   "title_sidebar": "Contents",
   "toc_cell": false,
   "toc_position": {},
   "toc_section_display": true,
   "toc_window_display": false
  }
 },
 "nbformat": 4,
 "nbformat_minor": 2
}
